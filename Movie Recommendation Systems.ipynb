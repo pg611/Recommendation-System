{
 "cells": [
  {
   "cell_type": "code",
   "execution_count": 42,
   "id": "fbf13b49",
   "metadata": {},
   "outputs": [],
   "source": [
    "# Importing Libraries\n",
    "import numpy as np\n",
    "import pandas as pd\n",
    "import sklearn\n",
    "import matplotlib.pyplot as plt\n",
    "import seaborn as sns\n",
    "import warnings\n",
    "warnings.simplefilter(action='ignore', category=FutureWarning)\n"
   ]
  },
  {
   "cell_type": "code",
   "execution_count": 43,
   "id": "34fc4c3e",
   "metadata": {},
   "outputs": [
    {
     "name": "stdout",
     "output_type": "stream",
     "text": [
      "   userId  movieId  rating  timestamp\n",
      "0       1        1     4.0  964982703\n",
      "1       1        3     4.0  964981247\n",
      "2       1        6     4.0  964982224\n",
      "3       1       47     5.0  964983815\n",
      "4       1       50     5.0  964982931\n"
     ]
    }
   ],
   "source": [
    "#loading rating dataset\n",
    "ratings = pd.read_csv(\"https://s3-us-west-2.amazonaws.com/recommender-tutorial/ratings.csv\")\n",
    "print(ratings.head())\n"
   ]
  },
  {
   "cell_type": "code",
   "execution_count": 44,
   "id": "f3c0c7a3",
   "metadata": {},
   "outputs": [
    {
     "name": "stdout",
     "output_type": "stream",
     "text": [
      "   movieId                               title  \\\n",
      "0        1                    Toy Story (1995)   \n",
      "1        2                      Jumanji (1995)   \n",
      "2        3             Grumpier Old Men (1995)   \n",
      "3        4            Waiting to Exhale (1995)   \n",
      "4        5  Father of the Bride Part II (1995)   \n",
      "\n",
      "                                        genres  \n",
      "0  Adventure|Animation|Children|Comedy|Fantasy  \n",
      "1                   Adventure|Children|Fantasy  \n",
      "2                               Comedy|Romance  \n",
      "3                         Comedy|Drama|Romance  \n",
      "4                                       Comedy  \n"
     ]
    }
   ],
   "source": [
    "# loading movie dataset\n",
    "movies = pd.read_csv(\"https://s3-us-west-2.amazonaws.com/recommender-tutorial/movies.csv\")\n",
    "print(movies.head())\n"
   ]
  },
  {
   "cell_type": "code",
   "execution_count": 45,
   "id": "1e722d9d",
   "metadata": {},
   "outputs": [
    {
     "name": "stdout",
     "output_type": "stream",
     "text": [
      "Number of ratings: 100836\n",
      "Number of unique movieId's: 9724\n",
      "Number of unique users: 610\n",
      "Average ratings per user: 165.3\n",
      "Average ratings per movie: 10.37\n"
     ]
    }
   ],
   "source": [
    "n_ratings = len(ratings)\n",
    "n_movies = len(ratings['movieId'].unique())\n",
    "n_users = len(ratings['userId'].unique())\n",
    "\n",
    "print(f\"Number of ratings: {n_ratings}\")\n",
    "print(f\"Number of unique movieId's: {n_movies}\")\n",
    "print(f\"Number of unique users: {n_users}\")\n",
    "print(f\"Average ratings per user: {round(n_ratings/n_users, 2)}\")\n",
    "print(f\"Average ratings per movie: {round(n_ratings/n_movies, 2)}\")\n"
   ]
  },
  {
   "cell_type": "code",
   "execution_count": 46,
   "id": "d7efca7d",
   "metadata": {},
   "outputs": [
    {
     "name": "stdout",
     "output_type": "stream",
     "text": [
      "   userId  n_ratings\n",
      "0       1        232\n",
      "1       2         29\n",
      "2       3         39\n",
      "3       4        216\n",
      "4       5         44\n"
     ]
    }
   ],
   "source": [
    "user_freq = ratings[['userId', 'movieId']].groupby(\n",
    "\t'userId').count().reset_index()\n",
    "user_freq.columns = ['userId', 'n_ratings']\n",
    "print(user_freq.head())\n"
   ]
  },
  {
   "cell_type": "code",
   "execution_count": 47,
   "id": "bc630beb",
   "metadata": {},
   "outputs": [],
   "source": [
    "# Find Lowest and Highest rated movies:\n",
    "mean_rating = ratings.groupby('movieId')[['rating']].mean()\n",
    "# Lowest rated movies\n",
    "lowest_rated = mean_rating['rating'].idxmin()\n",
    "movies.loc[movies['movieId'] == lowest_rated]\n",
    "# Highest rated movies\n",
    "highest_rated = mean_rating['rating'].idxmax()\n",
    "movies.loc[movies['movieId'] == highest_rated]\n",
    "# show number of people who rated movies rated movie highest\n",
    "ratings[ratings['movieId']==highest_rated]\n",
    "# show number of people who rated movies rated movie lowest\n",
    "ratings[ratings['movieId']==lowest_rated]\n",
    "\n",
    "## the above movies has very low dataset. We will use bayesian average\n",
    "movie_stats = ratings.groupby('movieId')[['rating']].agg(['count', 'mean'])\n",
    "movie_stats.columns = movie_stats.columns.droplevel()\n"
   ]
  },
  {
   "cell_type": "code",
   "execution_count": 48,
   "id": "4a398467",
   "metadata": {},
   "outputs": [],
   "source": [
    "# Now, we create user-item matrix using scipy csr matrix\n",
    "from scipy.sparse import csr_matrix\n",
    "\n",
    "def create_matrix(df):\n",
    "\t\n",
    "\tN = len(df['userId'].unique())\n",
    "\tM = len(df['movieId'].unique())\n",
    "\t\n",
    "\t# Map Ids to indices\n",
    "\tuser_mapper = dict(zip(np.unique(df[\"userId\"]), list(range(N))))\n",
    "\tmovie_mapper = dict(zip(np.unique(df[\"movieId\"]), list(range(M))))\n",
    "\t\n",
    "\t# Map indices to IDs\n",
    "\tuser_inv_mapper = dict(zip(list(range(N)), np.unique(df[\"userId\"])))\n",
    "\tmovie_inv_mapper = dict(zip(list(range(M)), np.unique(df[\"movieId\"])))\n",
    "\t\n",
    "\tuser_index = [user_mapper[i] for i in df['userId']]\n",
    "\tmovie_index = [movie_mapper[i] for i in df['movieId']]\n",
    "\n",
    "\tX = csr_matrix((df[\"rating\"], (movie_index, user_index)), shape=(M, N))\n",
    "\t\n",
    "\treturn X, user_mapper, movie_mapper, user_inv_mapper, movie_inv_mapper\n",
    "\t\n",
    "X, user_mapper, movie_mapper, user_inv_mapper, movie_inv_mapper = create_matrix(ratings)\n"
   ]
  },
  {
   "cell_type": "code",
   "execution_count": 49,
   "id": "cc531f1e",
   "metadata": {},
   "outputs": [
    {
     "name": "stdout",
     "output_type": "stream",
     "text": [
      "Since you watched Sudden Death (1995)\n",
      "Theodore Rex (1995)\n",
      "Eraser (1996)\n",
      "Bed of Roses (1996)\n",
      "Bloodsport 2 (a.k.a. Bloodsport II: The Next Kumite) (1996)\n",
      "Relic, The (1997)\n",
      "Juror, The (1996)\n",
      "Spy Hard (1996)\n",
      "Barb Wire (1996)\n",
      "Eddie (1996)\n",
      "Striptease (1996)\n"
     ]
    }
   ],
   "source": [
    "\n",
    "\"\"\"\n",
    "Find similar movies using KNN\n",
    "\"\"\"\n",
    "def find_similar_movies(movie_id, X, k, metric='cosine', show_distance=False):\n",
    "\t\n",
    "\tneighbour_ids = []\n",
    "\t\n",
    "\tmovie_ind = movie_mapper[movie_id]\n",
    "\tmovie_vec = X[movie_ind]\n",
    "\tk+=1\n",
    "\tkNN = sklearn.neighbors.NearestNeighbors(n_neighbors=k, algorithm=\"brute\", metric=metric)\n",
    "\tkNN.fit(X)\n",
    "\tmovie_vec = movie_vec.reshape(1,-1)\n",
    "\tneighbour = kNN.kneighbors(movie_vec, return_distance=show_distance)\n",
    "\tfor i in range(0,k):\n",
    "\t\tn = neighbour.item(i)\n",
    "\t\tneighbour_ids.append(movie_inv_mapper[n])\n",
    "\tneighbour_ids.pop(0)\n",
    "\treturn neighbour_ids\n",
    "\n",
    "\n",
    "movie_titles = dict(zip(movies['movieId'], movies['title']))\n",
    "\n",
    "movie_id = 9\n",
    "\n",
    "similar_ids = find_similar_movies(movie_id, X, k=10)\n",
    "movie_title = movie_titles[movie_id]\n",
    "\n",
    "print(f\"Since you watched {movie_title}\")\n",
    "for i in similar_ids:\n",
    "\tprint(movie_titles[i])\n"
   ]
  },
  {
   "cell_type": "code",
   "execution_count": 50,
   "id": "148cb49d",
   "metadata": {},
   "outputs": [],
   "source": [
    "def recommend_movies_for_user(user_id, X, user_mapper, movie_mapper, movie_inv_mapper, k=10):\n",
    "\tdf1 = ratings[ratings['userId'] == user_id]\n",
    "\t\n",
    "\tif df1.empty:\n",
    "\t\tprint(f\"User with ID {user_id} does not exist.\")\n",
    "\t\treturn\n",
    "\n",
    "\tmovie_id = df1[df1['rating'] == max(df1['rating'])]['movieId'].iloc[0]\n",
    "\n",
    "\tmovie_titles = dict(zip(movies['movieId'], movies['title']))\n",
    "\n",
    "\tsimilar_ids = find_similar_movies(movie_id, X, k)\n",
    "\tmovie_title = movie_titles.get(movie_id, \"Movie not found\")\n",
    "\n",
    "\tif movie_title == \"Movie not found\":\n",
    "\t\tprint(f\"Movie with ID {movie_id} not found.\")\n",
    "\t\treturn\n",
    "\n",
    "\tprint(f\"Since you watched {movie_title}, you might also like:\")\n",
    "\tfor i in similar_ids:\n",
    "\t\tprint(movie_titles.get(i, \"Movie not found\"))\n"
   ]
  },
  {
   "cell_type": "code",
   "execution_count": 58,
   "id": "11bfe979",
   "metadata": {},
   "outputs": [
    {
     "name": "stdout",
     "output_type": "stream",
     "text": [
      "Since you watched Grumpier Old Men (1995), you might also like:\n",
      "Grumpy Old Men (1993)\n",
      "Striptease (1996)\n",
      "Nutty Professor, The (1996)\n",
      "Twister (1996)\n",
      "Father of the Bride Part II (1995)\n",
      "Broken Arrow (1996)\n",
      "Bio-Dome (1996)\n",
      "Truth About Cats & Dogs, The (1996)\n",
      "Sabrina (1995)\n",
      "Birdcage, The (1996)\n"
     ]
    }
   ],
   "source": [
    "user_id = 6 # Replace with the desired user ID\n",
    "recommend_movies_for_user(user_id, X, user_mapper, movie_mapper, movie_inv_mapper, k=10)\n"
   ]
  },
  {
   "cell_type": "code",
   "execution_count": 59,
   "id": "762d50ae",
   "metadata": {},
   "outputs": [
    {
     "name": "stdout",
     "output_type": "stream",
     "text": [
      "Precision: 0.32\n",
      "Recall: 0.04\n"
     ]
    }
   ],
   "source": [
    "from sklearn.metrics import precision_score, recall_score\n",
    "\n",
    "\n",
    "# Evaluate precision and recall\n",
    "def evaluate_model(X, user_mapper, movie_mapper, movie_inv_mapper):\n",
    "    y_true = []\n",
    "    y_pred = []\n",
    "\n",
    "    for user_id in ratings['userId'].unique():\n",
    "        if user_id in user_mapper:\n",
    "            true_movie_ids = ratings[(ratings['userId'] == user_id) & (ratings['rating'] >= 4.0)]['movieId'].tolist()\n",
    "            true_movie_indices = [movie_mapper[movie_id] for movie_id in true_movie_ids]\n",
    "            true_labels = [1 if i in true_movie_indices else 0 for i in range(X.shape[0])]\n",
    "\n",
    "            user_ratings = ratings[ratings['userId'] == user_id]\n",
    "            if not user_ratings.empty:\n",
    "                max_rated_movie_id = user_ratings[user_ratings['rating'] == max(user_ratings['rating'])]['movieId'].iloc[0]\n",
    "                similar_movie_ids = find_similar_movies(max_rated_movie_id, X, k=10)\n",
    "                similar_movie_indices = [movie_mapper[movie_id] for movie_id in similar_movie_ids]\n",
    "\n",
    "                pred_labels = [1 if i in similar_movie_indices else 0 for i in range(X.shape[0])]\n",
    "\n",
    "                y_true.extend(true_labels)\n",
    "                y_pred.extend(pred_labels)\n",
    "\n",
    "    precision = precision_score(y_true, y_pred)\n",
    "    recall = recall_score(y_true, y_pred)\n",
    "\n",
    "    print(f\"Precision: {precision:.2f}\")\n",
    "    print(f\"Recall: {recall:.2f}\")\n",
    "\n",
    "# Evaluate the model\n",
    "evaluate_model(X, user_mapper, movie_mapper, movie_inv_mapper)"
   ]
  },
  {
   "cell_type": "code",
   "execution_count": 63,
   "id": "cb2d776c",
   "metadata": {},
   "outputs": [
    {
     "name": "stdout",
     "output_type": "stream",
     "text": [
      "Precision: 0.41\n",
      "Recall: 0.03\n"
     ]
    }
   ],
   "source": [
    "def evaluate_model(X, user_mapper, movie_mapper, movie_inv_mapper, threshold=4.0, k=10):\n",
    "    y_true = []\n",
    "    y_pred = []\n",
    "\n",
    "    for user_id in ratings['userId'].unique():\n",
    "        if user_id in user_mapper:\n",
    "            true_movie_ids = ratings[(ratings['userId'] == user_id) & (ratings['rating'] >= threshold)]['movieId'].tolist()\n",
    "            true_movie_indices = [movie_mapper[movie_id] for movie_id in true_movie_ids]\n",
    "            true_labels = [1 if i in true_movie_indices else 0 for i in range(X.shape[0])]\n",
    "\n",
    "            user_ratings = ratings[ratings['userId'] == user_id]\n",
    "            if not user_ratings.empty:\n",
    "                max_rated_movie_id = user_ratings[user_ratings['rating'] == max(user_ratings['rating'])]['movieId'].iloc[0]\n",
    "                similar_movie_ids = find_similar_movies(max_rated_movie_id, X, k=k)\n",
    "                similar_movie_indices = [movie_mapper[movie_id] for movie_id in similar_movie_ids]\n",
    "\n",
    "                pred_labels = [1 if i in similar_movie_indices else 0 for i in range(X.shape[0])]\n",
    "\n",
    "                y_true.extend(true_labels)\n",
    "                y_pred.extend(pred_labels)\n",
    "\n",
    "    precision = precision_score(y_true, y_pred)\n",
    "    recall = recall_score(y_true, y_pred)\n",
    "\n",
    "    print(f\"Precision: {precision:.2f}\")\n",
    "    print(f\"Recall: {recall:.2f}\")\n",
    "\n",
    "# Evaluate the model with varying threshold and diverse recommendations\n",
    "evaluate_model(X, user_mapper, movie_mapper, movie_inv_mapper, threshold=3.0, k=10)"
   ]
  },
  {
   "cell_type": "code",
   "execution_count": 64,
   "id": "4bef84c0",
   "metadata": {},
   "outputs": [
    {
     "name": "stdout",
     "output_type": "stream",
     "text": [
      "Threshold: 3.0, Precision: 0.41, Recall: 0.03\n",
      "Threshold: 3.5, Precision: 0.35, Recall: 0.03\n",
      "Threshold: 4.0, Precision: 0.32, Recall: 0.04\n",
      "Threshold: 4.5, Precision: 0.19, Recall: 0.05\n",
      "Threshold: 5.0, Precision: 0.13, Recall: 0.06\n"
     ]
    }
   ],
   "source": [
    "from sklearn.metrics import precision_score, recall_score\n",
    "\n",
    "# Existing code...\n",
    "\n",
    "def evaluate_thresholds(X, user_mapper, movie_mapper, movie_inv_mapper, thresholds):\n",
    "    \"\"\"\n",
    "    Evaluate precision and recall for different thresholds.\n",
    "\n",
    "    Parameters:\n",
    "    - X: User-item matrix\n",
    "    - user_mapper, movie_mapper, movie_inv_mapper: Mapping dictionaries\n",
    "    - thresholds: List of threshold values to evaluate\n",
    "\n",
    "    Prints precision and recall for each threshold.\n",
    "    \"\"\"\n",
    "    for threshold in thresholds:\n",
    "        y_true = []\n",
    "        y_pred = []\n",
    "\n",
    "        for user_id in ratings['userId'].unique():\n",
    "            if user_id in user_mapper:\n",
    "                true_movie_ids = ratings[(ratings['userId'] == user_id) & (ratings['rating'] >= threshold)]['movieId'].tolist()\n",
    "                true_movie_indices = [movie_mapper[movie_id] for movie_id in true_movie_ids]\n",
    "                true_labels = [1 if i in true_movie_indices else 0 for i in range(X.shape[0])]\n",
    "\n",
    "                user_ratings = ratings[ratings['userId'] == user_id]\n",
    "                if not user_ratings.empty:\n",
    "                    max_rated_movie_id = user_ratings[user_ratings['rating'] == max(user_ratings['rating'])]['movieId'].iloc[0]\n",
    "                    similar_movie_ids = find_similar_movies(max_rated_movie_id, X, k=10)\n",
    "                    similar_movie_indices = [movie_mapper[movie_id] for movie_id in similar_movie_ids]\n",
    "\n",
    "                    pred_labels = [1 if i in similar_movie_indices else 0 for i in range(X.shape[0])]\n",
    "\n",
    "                    y_true.extend(true_labels)\n",
    "                    y_pred.extend(pred_labels)\n",
    "\n",
    "        precision = precision_score(y_true, y_pred)\n",
    "        recall = recall_score(y_true, y_pred)\n",
    "\n",
    "        print(f\"Threshold: {threshold}, Precision: {precision:.2f}, Recall: {recall:.2f}\")\n",
    "\n",
    "# Example usage:\n",
    "thresholds_to_try = [3.0, 3.5, 4.0, 4.5, 5.0]\n",
    "evaluate_thresholds(X, user_mapper, movie_mapper, movie_inv_mapper, thresholds_to_try)"
   ]
  },
  {
   "cell_type": "code",
   "execution_count": null,
   "id": "da7b8935",
   "metadata": {},
   "outputs": [],
   "source": []
  }
 ],
 "metadata": {
  "kernelspec": {
   "display_name": "Python 3 (ipykernel)",
   "language": "python",
   "name": "python3"
  },
  "language_info": {
   "codemirror_mode": {
    "name": "ipython",
    "version": 3
   },
   "file_extension": ".py",
   "mimetype": "text/x-python",
   "name": "python",
   "nbconvert_exporter": "python",
   "pygments_lexer": "ipython3",
   "version": "3.11.4"
  }
 },
 "nbformat": 4,
 "nbformat_minor": 5
}
